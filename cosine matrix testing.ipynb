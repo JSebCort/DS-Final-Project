{
 "cells": [
  {
   "cell_type": "code",
   "execution_count": 21,
   "metadata": {},
   "outputs": [],
   "source": [
    "import pandas as pd\n",
    "#from rake_nltk import Rake\n",
    "import seaborn as sns\n",
    "import numpy as np\n",
    "from sklearn.metrics.pairwise import cosine_similarity\n",
    "from sklearn.feature_extraction.text import CountVectorizer\n",
    "\n",
    "raw = pd.read_csv('professionalsKeywords.csv')\n",
    "df = raw[raw.columns[~raw.columns.str.contains('Unnamed:')]] #purge empty columns\n",
    "\n",
    "#count = CountVectorizer()\n",
    "#count_matrix = count.fit_transform(df['answered_questions'])\n",
    "\n",
    "# generating the cosine similarity matrix\n",
    "#cosine_sim = cosine_similarity(count_matrix, count_matrix)"
   ]
  },
  {
   "cell_type": "code",
   "execution_count": 34,
   "metadata": {},
   "outputs": [
    {
     "name": "stdout",
     "output_type": "stream",
     "text": [
      "Enter a professional's ID for 10 recommendations...or just press enter for a random one.\n",
      "the professional you got is \n",
      "e9b689f6ac7f4b749e8c6d36f5335494\n",
      "with these keywords\n",
      "know picked right career career path succession going chose planning one enjoy job want able like biggest fears dread everyday always  employable worker need skills skills interviewing skillsforthejob  interviewing process candidates new tips professionalism ). people looking interview tips skills first jobs experience pointers interviews stand hires new interviewing professional qualifications  \n",
      "10 questions to recommend to this professional:\n",
      "q1\n",
      "q2\n",
      "q3\n"
     ]
    }
   ],
   "source": [
    "'''\n",
    "User I/O (Olivia)\n",
    "\n",
    "- should be able to enter a pro id chosen at random and print 10 recommended questions\n",
    "\n",
    "- (will probably require work from Destiny's code)\n",
    "\n",
    "'''\n",
    "#choose randomly from list of valid professionals\n",
    "def randomProfessional():\n",
    "    global df\n",
    "    return df.sample()\n",
    "\n",
    "#This is where the math happens\n",
    "def getRecommendations(professional_id):\n",
    "    return ['q1', 'q2', 'q3']\n",
    "\n",
    "def main():\n",
    "    choice = input(\"Enter a professional's ID for 10 recommendations...or just press enter for a random one.\")\n",
    "    if choice is None or choice == '': #idk which one happens when you enter nothing\n",
    "        choice = randomProfessional()\n",
    "        print('the professional you got is ')\n",
    "        print(choice['professionals_id'].iloc[0])\n",
    "        print('with these keywords')\n",
    "        print(choice['answered_questions'].iloc[0])\n",
    "    try:\n",
    "        recs = getRecommendations(choice)\n",
    "        print('10 questions to recommend to this professional:')\n",
    "        for q in recs:\n",
    "            print(q)\n",
    "            \n",
    "    except:\n",
    "        print('had an oopsie...')\n",
    "        \n",
    "main()\n",
    "        "
   ]
  },
  {
   "cell_type": "code",
   "execution_count": 27,
   "metadata": {},
   "outputs": [
    {
     "data": {
      "text/html": [
       "<div>\n",
       "<style scoped>\n",
       "    .dataframe tbody tr th:only-of-type {\n",
       "        vertical-align: middle;\n",
       "    }\n",
       "\n",
       "    .dataframe tbody tr th {\n",
       "        vertical-align: top;\n",
       "    }\n",
       "\n",
       "    .dataframe thead th {\n",
       "        text-align: right;\n",
       "    }\n",
       "</style>\n",
       "<table border=\"1\" class=\"dataframe\">\n",
       "  <thead>\n",
       "    <tr style=\"text-align: right;\">\n",
       "      <th></th>\n",
       "      <th>professionals_id</th>\n",
       "      <th>answered_questions</th>\n",
       "    </tr>\n",
       "  </thead>\n",
       "  <tbody>\n",
       "    <tr>\n",
       "      <th>9972</th>\n",
       "      <td>d8ee96f593fd43f8aed643eff92ef15d</td>\n",
       "      <td>easy studying habits follow going high junior ...</td>\n",
       "    </tr>\n",
       "  </tbody>\n",
       "</table>\n",
       "</div>"
      ],
      "text/plain": [
       "                      professionals_id  \\\n",
       "9972  d8ee96f593fd43f8aed643eff92ef15d   \n",
       "\n",
       "                                     answered_questions  \n",
       "9972  easy studying habits follow going high junior ...  "
      ]
     },
     "execution_count": 27,
     "metadata": {},
     "output_type": "execute_result"
    }
   ],
   "source": [
    "df.sample()"
   ]
  }
 ],
 "metadata": {
  "kernelspec": {
   "display_name": "Python 3",
   "language": "python",
   "name": "python3"
  },
  "language_info": {
   "codemirror_mode": {
    "name": "ipython",
    "version": 3
   },
   "file_extension": ".py",
   "mimetype": "text/x-python",
   "name": "python",
   "nbconvert_exporter": "python",
   "pygments_lexer": "ipython3",
   "version": "3.7.1"
  }
 },
 "nbformat": 4,
 "nbformat_minor": 2
}
